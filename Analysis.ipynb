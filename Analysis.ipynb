{
 "cells": [
  {
   "cell_type": "code",
   "execution_count": 1,
   "id": "04a0d583",
   "metadata": {},
   "outputs": [],
   "source": [
    "import re\n",
    "import pandas as pd\n",
    "import numpy as np\n",
    "import nltk\n",
    "from nltk.corpus import stopwords\n",
    "from nltk.tokenize import word_tokenize\n",
    "from nltk.stem.porter import PorterStemmer"
   ]
  },
  {
   "cell_type": "markdown",
   "id": "080663fe",
   "metadata": {},
   "source": [
    "## Regex for extracting the numbers"
   ]
  },
  {
   "cell_type": "code",
   "execution_count": 2,
   "id": "0752d028",
   "metadata": {},
   "outputs": [],
   "source": [
    "data={\"orders\":[{\"id\":1},{\"id\":2},{\"id\":3},{\"id\":4},{\"id\":5},{\"id\":6},{\"id\":7},{\"id\":8},{\"id\":9},{\"id\":10},{\"id\":11},{\"id\":648},{\"id\":649},{\"id\":650},{\"id\":651},{\"id\":652},{\"id\":653}],\"errors\":[{\"code\":3,\"message\":\"[PHP Warning #2] count(): Parameter must be an array or an object that implements Countable (153)\"}]}\n",
    "data=str(data)"
   ]
  },
  {
   "cell_type": "code",
   "execution_count": 3,
   "id": "710a42c7",
   "metadata": {},
   "outputs": [
    {
     "data": {
      "text/plain": [
       "['1',\n",
       " '2',\n",
       " '3',\n",
       " '4',\n",
       " '5',\n",
       " '6',\n",
       " '7',\n",
       " '8',\n",
       " '9',\n",
       " '10',\n",
       " '11',\n",
       " '648',\n",
       " '649',\n",
       " '650',\n",
       " '651',\n",
       " '652',\n",
       " '653',\n",
       " '3']"
      ]
     },
     "execution_count": 3,
     "metadata": {},
     "output_type": "execute_result"
    }
   ],
   "source": [
    "re.findall(':\\s?(\\d+)',data)"
   ]
  },
  {
   "cell_type": "markdown",
   "id": "f5c40882",
   "metadata": {},
   "source": [
    "## Google Apps  Dataset Analysis"
   ]
  },
  {
   "cell_type": "code",
   "execution_count": 4,
   "id": "54e51258",
   "metadata": {},
   "outputs": [],
   "source": [
    "from sklearn.utils import shuffle\n",
    "google_df=pd.read_csv('C:/Users/aduma/Downloads/reviews.csv/reviews.csv')"
   ]
  },
  {
   "cell_type": "code",
   "execution_count": 5,
   "id": "f392055c",
   "metadata": {},
   "outputs": [
    {
     "data": {
      "text/html": [
       "<div>\n",
       "<style scoped>\n",
       "    .dataframe tbody tr th:only-of-type {\n",
       "        vertical-align: middle;\n",
       "    }\n",
       "\n",
       "    .dataframe tbody tr th {\n",
       "        vertical-align: top;\n",
       "    }\n",
       "\n",
       "    .dataframe thead th {\n",
       "        text-align: right;\n",
       "    }\n",
       "</style>\n",
       "<table border=\"1\" class=\"dataframe\">\n",
       "  <thead>\n",
       "    <tr style=\"text-align: right;\">\n",
       "      <th></th>\n",
       "      <th>reviewId</th>\n",
       "      <th>userName</th>\n",
       "      <th>userImage</th>\n",
       "      <th>content</th>\n",
       "      <th>score</th>\n",
       "      <th>thumbsUpCount</th>\n",
       "      <th>reviewCreatedVersion</th>\n",
       "      <th>at</th>\n",
       "      <th>replyContent</th>\n",
       "      <th>repliedAt</th>\n",
       "      <th>sortOrder</th>\n",
       "      <th>appId</th>\n",
       "      <th>Unnamed: 12</th>\n",
       "      <th>Unnamed: 13</th>\n",
       "      <th>Unnamed: 14</th>\n",
       "      <th>Unnamed: 15</th>\n",
       "      <th>Unnamed: 16</th>\n",
       "      <th>Unnamed: 17</th>\n",
       "    </tr>\n",
       "  </thead>\n",
       "  <tbody>\n",
       "    <tr>\n",
       "      <th>9341</th>\n",
       "      <td>gp:AOqpTOEPu7Ld03suUzZEQs-sh95uIAKwCf0IjBQxMNh...</td>\n",
       "      <td>Mohsen Baqery</td>\n",
       "      <td>https://play-lh.googleusercontent.com/a-/AOh14...</td>\n",
       "      <td>it's a great app But it would be even better i...</td>\n",
       "      <td>4</td>\n",
       "      <td>0</td>\n",
       "      <td>NaN</td>\n",
       "      <td>01-05-2020 12:27</td>\n",
       "      <td>Hi, thanks for your suggestion ?? The app is s...</td>\n",
       "      <td>01-05-2020 13:13</td>\n",
       "      <td>newest</td>\n",
       "      <td>com.gmail.jmartindev.timetune</td>\n",
       "      <td>NaN</td>\n",
       "      <td>NaN</td>\n",
       "      <td>NaN</td>\n",
       "      <td>NaN</td>\n",
       "      <td>NaN</td>\n",
       "      <td>NaN</td>\n",
       "    </tr>\n",
       "    <tr>\n",
       "      <th>5572</th>\n",
       "      <td>gp:AOqpTOGgbQ_86pM-wcnLvgS3YXdMeirMbWnPFw7sLHN...</td>\n",
       "      <td>Aon TheV.</td>\n",
       "      <td>https://play-lh.googleusercontent.com/a-/AOh14...</td>\n",
       "      <td>I like it, use every day</td>\n",
       "      <td>5</td>\n",
       "      <td>0</td>\n",
       "      <td>1.5.15</td>\n",
       "      <td>16-09-2020 13:51</td>\n",
       "      <td>NaN</td>\n",
       "      <td>NaN</td>\n",
       "      <td>newest</td>\n",
       "      <td>com.oristats.habitbull</td>\n",
       "      <td>NaN</td>\n",
       "      <td>NaN</td>\n",
       "      <td>NaN</td>\n",
       "      <td>NaN</td>\n",
       "      <td>NaN</td>\n",
       "      <td>NaN</td>\n",
       "    </tr>\n",
       "    <tr>\n",
       "      <th>737</th>\n",
       "      <td>gp:AOqpTOFxbYf8yNL8UstdGbn7AlE4RzTi1YcRibZ0a8K...</td>\n",
       "      <td>Phathutshedzo Seima</td>\n",
       "      <td>https://play-lh.googleusercontent.com/a-/AOh14...</td>\n",
       "      <td>Great app. Love using daily</td>\n",
       "      <td>4</td>\n",
       "      <td>0</td>\n",
       "      <td>4.19.0.6</td>\n",
       "      <td>02-05-2020 21:30</td>\n",
       "      <td>How do you think we can make this a 5 stars re...</td>\n",
       "      <td>05-05-2020 17:40</td>\n",
       "      <td>newest</td>\n",
       "      <td>com.anydo</td>\n",
       "      <td>NaN</td>\n",
       "      <td>NaN</td>\n",
       "      <td>NaN</td>\n",
       "      <td>NaN</td>\n",
       "      <td>NaN</td>\n",
       "      <td>NaN</td>\n",
       "    </tr>\n",
       "    <tr>\n",
       "      <th>3316</th>\n",
       "      <td>gp:AOqpTOGgr_lQT1q0Shg4T2J1RHyZwnQ6B9HyV5qqdjG...</td>\n",
       "      <td>Ricardo Servilha</td>\n",
       "      <td>https://play-lh.googleusercontent.com/a-/AOh14...</td>\n",
       "      <td>I liked, but in my cellphone had some bugs (ga...</td>\n",
       "      <td>3</td>\n",
       "      <td>0</td>\n",
       "      <td>NaN</td>\n",
       "      <td>09-12-2019 07:51</td>\n",
       "      <td>Hi Ricardo, thanks for your review! We'll keep...</td>\n",
       "      <td>13-12-2019 00:55</td>\n",
       "      <td>newest</td>\n",
       "      <td>com.habitrpg.android.habitica</td>\n",
       "      <td>NaN</td>\n",
       "      <td>NaN</td>\n",
       "      <td>NaN</td>\n",
       "      <td>NaN</td>\n",
       "      <td>NaN</td>\n",
       "      <td>NaN</td>\n",
       "    </tr>\n",
       "    <tr>\n",
       "      <th>3604</th>\n",
       "      <td>gp:AOqpTOEUR6Wa1y0S8QU2B_Xgwq_vtYc44qSbk3PavIW...</td>\n",
       "      <td>PJ DeBisschop</td>\n",
       "      <td>https://play-lh.googleusercontent.com/-GEiqYW0...</td>\n",
       "      <td>Previous issue was fixed by developers. Thanks...</td>\n",
       "      <td>5</td>\n",
       "      <td>5</td>\n",
       "      <td>3.0.2</td>\n",
       "      <td>16-10-2020 08:06</td>\n",
       "      <td>Hi PJ, sorry to hear about the confusion. The ...</td>\n",
       "      <td>15-10-2020 04:53</td>\n",
       "      <td>newest</td>\n",
       "      <td>com.habitrpg.android.habitica</td>\n",
       "      <td>NaN</td>\n",
       "      <td>NaN</td>\n",
       "      <td>NaN</td>\n",
       "      <td>NaN</td>\n",
       "      <td>NaN</td>\n",
       "      <td>NaN</td>\n",
       "    </tr>\n",
       "  </tbody>\n",
       "</table>\n",
       "</div>"
      ],
      "text/plain": [
       "                                               reviewId             userName  \\\n",
       "9341  gp:AOqpTOEPu7Ld03suUzZEQs-sh95uIAKwCf0IjBQxMNh...        Mohsen Baqery   \n",
       "5572  gp:AOqpTOGgbQ_86pM-wcnLvgS3YXdMeirMbWnPFw7sLHN...            Aon TheV.   \n",
       "737   gp:AOqpTOFxbYf8yNL8UstdGbn7AlE4RzTi1YcRibZ0a8K...  Phathutshedzo Seima   \n",
       "3316  gp:AOqpTOGgr_lQT1q0Shg4T2J1RHyZwnQ6B9HyV5qqdjG...     Ricardo Servilha   \n",
       "3604  gp:AOqpTOEUR6Wa1y0S8QU2B_Xgwq_vtYc44qSbk3PavIW...        PJ DeBisschop   \n",
       "\n",
       "                                              userImage  \\\n",
       "9341  https://play-lh.googleusercontent.com/a-/AOh14...   \n",
       "5572  https://play-lh.googleusercontent.com/a-/AOh14...   \n",
       "737   https://play-lh.googleusercontent.com/a-/AOh14...   \n",
       "3316  https://play-lh.googleusercontent.com/a-/AOh14...   \n",
       "3604  https://play-lh.googleusercontent.com/-GEiqYW0...   \n",
       "\n",
       "                                                content score thumbsUpCount  \\\n",
       "9341  it's a great app But it would be even better i...     4             0   \n",
       "5572                           I like it, use every day     5             0   \n",
       "737                         Great app. Love using daily     4             0   \n",
       "3316  I liked, but in my cellphone had some bugs (ga...     3             0   \n",
       "3604  Previous issue was fixed by developers. Thanks...     5             5   \n",
       "\n",
       "     reviewCreatedVersion                at  \\\n",
       "9341                  NaN  01-05-2020 12:27   \n",
       "5572               1.5.15  16-09-2020 13:51   \n",
       "737              4.19.0.6  02-05-2020 21:30   \n",
       "3316                  NaN  09-12-2019 07:51   \n",
       "3604                3.0.2  16-10-2020 08:06   \n",
       "\n",
       "                                           replyContent         repliedAt  \\\n",
       "9341  Hi, thanks for your suggestion ?? The app is s...  01-05-2020 13:13   \n",
       "5572                                                NaN               NaN   \n",
       "737   How do you think we can make this a 5 stars re...  05-05-2020 17:40   \n",
       "3316  Hi Ricardo, thanks for your review! We'll keep...  13-12-2019 00:55   \n",
       "3604  Hi PJ, sorry to hear about the confusion. The ...  15-10-2020 04:53   \n",
       "\n",
       "     sortOrder                          appId Unnamed: 12 Unnamed: 13  \\\n",
       "9341    newest  com.gmail.jmartindev.timetune         NaN         NaN   \n",
       "5572    newest         com.oristats.habitbull         NaN         NaN   \n",
       "737     newest                      com.anydo         NaN         NaN   \n",
       "3316    newest  com.habitrpg.android.habitica         NaN         NaN   \n",
       "3604    newest  com.habitrpg.android.habitica         NaN         NaN   \n",
       "\n",
       "     Unnamed: 14 Unnamed: 15 Unnamed: 16 Unnamed: 17  \n",
       "9341         NaN         NaN         NaN         NaN  \n",
       "5572         NaN         NaN         NaN         NaN  \n",
       "737          NaN         NaN         NaN         NaN  \n",
       "3316         NaN         NaN         NaN         NaN  \n",
       "3604         NaN         NaN         NaN         NaN  "
      ]
     },
     "execution_count": 5,
     "metadata": {},
     "output_type": "execute_result"
    }
   ],
   "source": [
    "google_df=shuffle(google_df)\n",
    "google_df.head()"
   ]
  },
  {
   "cell_type": "code",
   "execution_count": 6,
   "id": "dc551a14",
   "metadata": {},
   "outputs": [],
   "source": [
    "google_data=pd.DataFrame(google_df,columns=['content','score'])"
   ]
  },
  {
   "cell_type": "code",
   "execution_count": 7,
   "id": "4a7ccf96",
   "metadata": {},
   "outputs": [
    {
     "name": "stdout",
     "output_type": "stream",
     "text": [
      "<class 'pandas.core.frame.DataFrame'>\n",
      "Int64Index: 12473 entries, 9341 to 298\n",
      "Data columns (total 2 columns):\n",
      " #   Column   Non-Null Count  Dtype \n",
      "---  ------   --------------  ----- \n",
      " 0   content  12473 non-null  object\n",
      " 1   score    12473 non-null  object\n",
      "dtypes: object(2)\n",
      "memory usage: 292.3+ KB\n"
     ]
    }
   ],
   "source": [
    "google_data.info()"
   ]
  },
  {
   "cell_type": "code",
   "execution_count": 8,
   "id": "802e2946",
   "metadata": {},
   "outputs": [],
   "source": [
    "google_data['content'] =[re.sub(r'[^\\w\\s]','',str(i)).lower() for i in google_data['content']]"
   ]
  },
  {
   "cell_type": "code",
   "execution_count": 9,
   "id": "0d5004e4",
   "metadata": {},
   "outputs": [],
   "source": [
    "l=['0','1','2','3','4','5']\n",
    "ind=google_data[~google_data['score'].isin(l)].index\n",
    "google_data.drop(ind,axis=0,inplace=True)"
   ]
  },
  {
   "cell_type": "code",
   "execution_count": 10,
   "id": "34312316",
   "metadata": {},
   "outputs": [
    {
     "data": {
      "text/plain": [
       "5    2835\n",
       "4    2753\n",
       "1    2502\n",
       "2    2340\n",
       "3    1987\n",
       "0      43\n",
       "Name: score, dtype: int64"
      ]
     },
     "execution_count": 10,
     "metadata": {},
     "output_type": "execute_result"
    }
   ],
   "source": [
    "google_data['score'].value_counts()"
   ]
  },
  {
   "cell_type": "code",
   "execution_count": 11,
   "id": "835039b1",
   "metadata": {
    "scrolled": true
   },
   "outputs": [
    {
     "data": {
      "text/plain": [
       "9341    4\n",
       "5572    5\n",
       "737     4\n",
       "3316    3\n",
       "3604    5\n",
       "       ..\n",
       "4728    5\n",
       "7884    1\n",
       "6320    1\n",
       "9969    2\n",
       "298     2\n",
       "Name: score, Length: 12460, dtype: int32"
      ]
     },
     "execution_count": 11,
     "metadata": {},
     "output_type": "execute_result"
    }
   ],
   "source": [
    "google_data['score'].astype('int32')"
   ]
  },
  {
   "cell_type": "code",
   "execution_count": 12,
   "id": "78ead8bb",
   "metadata": {},
   "outputs": [],
   "source": [
    "stop_words = set(stopwords.words('english'))\n",
    "def remove_StopWord(word):\n",
    "    word_tokens =  word_tokenize(str(word))\n",
    "    filtered_sentence = [] \n",
    "    for w in word_tokens: \n",
    "        if w.lower() not in stop_words: \n",
    "             filtered_sentence.append(w) \n",
    "    removed = \" \".join(filtered_sentence)\n",
    "    return removed"
   ]
  },
  {
   "cell_type": "code",
   "execution_count": 13,
   "id": "1950236d",
   "metadata": {},
   "outputs": [],
   "source": [
    "google_data['content']=google_data['content'].apply(remove_StopWord)"
   ]
  },
  {
   "cell_type": "code",
   "execution_count": 14,
   "id": "619da7f6",
   "metadata": {},
   "outputs": [
    {
     "data": {
      "text/plain": [
       "9341    great app would even better option see whole w...\n",
       "5572                                   like use every day\n",
       "737                            great app love using daily\n",
       "3316    liked cellphone bugs galaxy a8 think app funct...\n",
       "3604    previous issue fixed developers thanks getting...\n",
       "                              ...                        \n",
       "4728                                                 nice\n",
       "7884    complicated routine managing app ever stay awa...\n",
       "6320    este um timo aplicativo eu melhorei muito e mu...\n",
       "9969    dont understand letting type gets hanged every...\n",
       "298                          keep losing mini steps write\n",
       "Name: content, Length: 12460, dtype: object"
      ]
     },
     "execution_count": 14,
     "metadata": {},
     "output_type": "execute_result"
    }
   ],
   "source": [
    "google_data['content']"
   ]
  },
  {
   "cell_type": "code",
   "execution_count": 15,
   "id": "4a35d767",
   "metadata": {},
   "outputs": [],
   "source": [
    "google_data['content']=google_data['content'].apply(lambda x:word_tokenize(x))\n",
    "google_data['sentiment']=google_data['score'].apply(lambda x: 1 if int(x)>=3 else 0)"
   ]
  },
  {
   "cell_type": "code",
   "execution_count": 16,
   "id": "e510cb00",
   "metadata": {},
   "outputs": [],
   "source": [
    "porter_stemmer = PorterStemmer()\n",
    "def stemming(text):\n",
    "    stem_text = [porter_stemmer.stem(word) for word in text]\n",
    "    removed = \" \".join(stem_text)\n",
    "    return removed"
   ]
  },
  {
   "cell_type": "code",
   "execution_count": 17,
   "id": "0d051054",
   "metadata": {},
   "outputs": [],
   "source": [
    "google_data['content']=google_data['content'].apply(stemming)"
   ]
  },
  {
   "cell_type": "code",
   "execution_count": 18,
   "id": "58c66512",
   "metadata": {},
   "outputs": [],
   "source": [
    "from sklearn.model_selection import train_test_split\n",
    "from sklearn.feature_extraction.text import TfidfVectorizer,CountVectorizer,TfidfTransformer\n",
    "from sklearn.svm import LinearSVC\n",
    "from sklearn.metrics import classification_report,confusion_matrix,accuracy_score"
   ]
  },
  {
   "cell_type": "code",
   "execution_count": 19,
   "id": "bcf44cbc",
   "metadata": {},
   "outputs": [],
   "source": [
    "vector=TfidfVectorizer()\n",
    "x_train=vector.fit_transform(google_data['content'])\n",
    "y_train=google_data['sentiment']"
   ]
  },
  {
   "cell_type": "code",
   "execution_count": 20,
   "id": "78b9f54d",
   "metadata": {},
   "outputs": [
    {
     "data": {
      "text/html": [
       "<div>\n",
       "<style scoped>\n",
       "    .dataframe tbody tr th:only-of-type {\n",
       "        vertical-align: middle;\n",
       "    }\n",
       "\n",
       "    .dataframe tbody tr th {\n",
       "        vertical-align: top;\n",
       "    }\n",
       "\n",
       "    .dataframe thead th {\n",
       "        text-align: right;\n",
       "    }\n",
       "</style>\n",
       "<table border=\"1\" class=\"dataframe\">\n",
       "  <thead>\n",
       "    <tr style=\"text-align: right;\">\n",
       "      <th></th>\n",
       "      <th>ID</th>\n",
       "      <th>Review URL</th>\n",
       "      <th>Text</th>\n",
       "      <th>Star</th>\n",
       "      <th>Thumbs Up</th>\n",
       "      <th>User Name</th>\n",
       "      <th>Developer Reply</th>\n",
       "      <th>Version</th>\n",
       "      <th>Review Date</th>\n",
       "      <th>App ID</th>\n",
       "    </tr>\n",
       "  </thead>\n",
       "  <tbody>\n",
       "    <tr>\n",
       "      <th>0</th>\n",
       "      <td>3886</td>\n",
       "      <td>https://play.google.com/store/apps/details?id=...</td>\n",
       "      <td>This is very helpfull aap.</td>\n",
       "      <td>5</td>\n",
       "      <td>0</td>\n",
       "      <td>INDIAN Knowledge</td>\n",
       "      <td>NaN</td>\n",
       "      <td>83.0.4103.106</td>\n",
       "      <td>19-12-2020</td>\n",
       "      <td>com.android.chrome</td>\n",
       "    </tr>\n",
       "    <tr>\n",
       "      <th>1</th>\n",
       "      <td>3887</td>\n",
       "      <td>https://play.google.com/store/apps/details?id=...</td>\n",
       "      <td>Good</td>\n",
       "      <td>3</td>\n",
       "      <td>2</td>\n",
       "      <td>Ijeoma Happiness</td>\n",
       "      <td>NaN</td>\n",
       "      <td>85.0.4183.127</td>\n",
       "      <td>19-12-2020</td>\n",
       "      <td>com.android.chrome</td>\n",
       "    </tr>\n",
       "    <tr>\n",
       "      <th>2</th>\n",
       "      <td>3888</td>\n",
       "      <td>https://play.google.com/store/apps/details?id=...</td>\n",
       "      <td>Not able to update. Neither able to uninstall.</td>\n",
       "      <td>1</td>\n",
       "      <td>0</td>\n",
       "      <td>Priti D BtCFs-29</td>\n",
       "      <td>NaN</td>\n",
       "      <td>85.0.4183.127</td>\n",
       "      <td>19-12-2020</td>\n",
       "      <td>com.android.chrome</td>\n",
       "    </tr>\n",
       "    <tr>\n",
       "      <th>3</th>\n",
       "      <td>3889</td>\n",
       "      <td>https://play.google.com/store/apps/details?id=...</td>\n",
       "      <td>Nice app</td>\n",
       "      <td>4</td>\n",
       "      <td>0</td>\n",
       "      <td>Ajeet Raja</td>\n",
       "      <td>NaN</td>\n",
       "      <td>77.0.3865.116</td>\n",
       "      <td>19-12-2020</td>\n",
       "      <td>com.android.chrome</td>\n",
       "    </tr>\n",
       "    <tr>\n",
       "      <th>4</th>\n",
       "      <td>3890</td>\n",
       "      <td>https://play.google.com/store/apps/details?id=...</td>\n",
       "      <td>Many unwanted ads</td>\n",
       "      <td>1</td>\n",
       "      <td>0</td>\n",
       "      <td>Rams Mp</td>\n",
       "      <td>NaN</td>\n",
       "      <td>87.0.4280.66</td>\n",
       "      <td>19-12-2020</td>\n",
       "      <td>com.android.chrome</td>\n",
       "    </tr>\n",
       "  </tbody>\n",
       "</table>\n",
       "</div>"
      ],
      "text/plain": [
       "     ID                                         Review URL  \\\n",
       "0  3886  https://play.google.com/store/apps/details?id=...   \n",
       "1  3887  https://play.google.com/store/apps/details?id=...   \n",
       "2  3888  https://play.google.com/store/apps/details?id=...   \n",
       "3  3889  https://play.google.com/store/apps/details?id=...   \n",
       "4  3890  https://play.google.com/store/apps/details?id=...   \n",
       "\n",
       "                                             Text  Star  Thumbs Up  \\\n",
       "0                      This is very helpfull aap.     5          0   \n",
       "1                                            Good     3          2   \n",
       "2  Not able to update. Neither able to uninstall.     1          0   \n",
       "3                                        Nice app     4          0   \n",
       "4                               Many unwanted ads     1          0   \n",
       "\n",
       "          User Name Developer Reply        Version Review Date  \\\n",
       "0  INDIAN Knowledge             NaN  83.0.4103.106  19-12-2020   \n",
       "1  Ijeoma Happiness             NaN  85.0.4183.127  19-12-2020   \n",
       "2  Priti D BtCFs-29             NaN  85.0.4183.127  19-12-2020   \n",
       "3        Ajeet Raja             NaN  77.0.3865.116  19-12-2020   \n",
       "4           Rams Mp             NaN   87.0.4280.66  19-12-2020   \n",
       "\n",
       "               App ID  \n",
       "0  com.android.chrome  \n",
       "1  com.android.chrome  \n",
       "2  com.android.chrome  \n",
       "3  com.android.chrome  \n",
       "4  com.android.chrome  "
      ]
     },
     "execution_count": 20,
     "metadata": {},
     "output_type": "execute_result"
    }
   ],
   "source": [
    "chrome_df=pd.read_csv('Downloads/chrome_reviews.csv')\n",
    "chrome_df.head()"
   ]
  },
  {
   "cell_type": "code",
   "execution_count": 21,
   "id": "04dd6c8e",
   "metadata": {},
   "outputs": [
    {
     "name": "stdout",
     "output_type": "stream",
     "text": [
      "<class 'pandas.core.frame.DataFrame'>\n",
      "RangeIndex: 7204 entries, 0 to 7203\n",
      "Data columns (total 10 columns):\n",
      " #   Column           Non-Null Count  Dtype \n",
      "---  ------           --------------  ----- \n",
      " 0   ID               7204 non-null   int64 \n",
      " 1   Review URL       7204 non-null   object\n",
      " 2   Text             7203 non-null   object\n",
      " 3   Star             7204 non-null   int64 \n",
      " 4   Thumbs Up        7204 non-null   int64 \n",
      " 5   User Name        7204 non-null   object\n",
      " 6   Developer Reply  95 non-null     object\n",
      " 7   Version          7119 non-null   object\n",
      " 8   Review Date      7204 non-null   object\n",
      " 9   App ID           7204 non-null   object\n",
      "dtypes: int64(3), object(7)\n",
      "memory usage: 562.9+ KB\n"
     ]
    }
   ],
   "source": [
    "chrome_df.info()"
   ]
  },
  {
   "cell_type": "code",
   "execution_count": 22,
   "id": "d8da6238",
   "metadata": {},
   "outputs": [],
   "source": [
    "chrome_df['Text'] =[re.sub(r'[^\\w\\s]','',str(i)).lower() for i in chrome_df['Text']]"
   ]
  },
  {
   "cell_type": "code",
   "execution_count": 23,
   "id": "b2da7930",
   "metadata": {},
   "outputs": [],
   "source": [
    "chrome_df.drop(chrome_df['Text'][chrome_df['Text']==' '].index,axis=0,inplace=True)"
   ]
  },
  {
   "cell_type": "code",
   "execution_count": 24,
   "id": "c1337931",
   "metadata": {},
   "outputs": [],
   "source": [
    "chrome_df['Text']=chrome_df['Text'].apply(remove_StopWord)\n",
    "chrome_df['Text']=chrome_df['Text'].apply(lambda x:word_tokenize(x))\n",
    "chrome_df['sentiment']=chrome_df['Star'].apply(lambda x: 1 if int(x)>=3 else 0)"
   ]
  },
  {
   "cell_type": "code",
   "execution_count": 25,
   "id": "9c034558",
   "metadata": {},
   "outputs": [],
   "source": [
    "chrome_df['Text']=chrome_df['Text'].apply(stemming)\n",
    "x_test=vector.transform(chrome_df['Text'])\n",
    "y_test=chrome_df['sentiment']"
   ]
  },
  {
   "cell_type": "code",
   "execution_count": 26,
   "id": "bf2587f8",
   "metadata": {},
   "outputs": [],
   "source": [
    "svc_model=LinearSVC(loss='hinge',random_state=0)"
   ]
  },
  {
   "cell_type": "code",
   "execution_count": 27,
   "id": "b971d7e5",
   "metadata": {
    "scrolled": true
   },
   "outputs": [
    {
     "name": "stderr",
     "output_type": "stream",
     "text": [
      "C:\\Users\\aduma\\anaconda3\\lib\\site-packages\\sklearn\\svm\\_base.py:1206: ConvergenceWarning: Liblinear failed to converge, increase the number of iterations.\n",
      "  warnings.warn(\n"
     ]
    },
    {
     "data": {
      "text/plain": [
       "LinearSVC(loss='hinge', random_state=0)"
      ]
     },
     "execution_count": 27,
     "metadata": {},
     "output_type": "execute_result"
    }
   ],
   "source": [
    "svc_model.fit(x_train,y_train)"
   ]
  },
  {
   "cell_type": "code",
   "execution_count": 28,
   "id": "7c6ea9a6",
   "metadata": {},
   "outputs": [],
   "source": [
    "y_test_pred=svc_model.predict(x_test)"
   ]
  },
  {
   "cell_type": "code",
   "execution_count": 29,
   "id": "bef6edfd",
   "metadata": {},
   "outputs": [
    {
     "name": "stdout",
     "output_type": "stream",
     "text": [
      "              precision    recall  f1-score   support\n",
      "\n",
      "           0       0.71      0.69      0.70      2229\n",
      "           1       0.86      0.88      0.87      4972\n",
      "\n",
      "    accuracy                           0.82      7201\n",
      "   macro avg       0.79      0.78      0.79      7201\n",
      "weighted avg       0.82      0.82      0.82      7201\n",
      "\n"
     ]
    }
   ],
   "source": [
    "report=classification_report(y_test,y_test_pred)\n",
    "print(report)"
   ]
  },
  {
   "cell_type": "code",
   "execution_count": 30,
   "id": "d8f9d82a",
   "metadata": {},
   "outputs": [
    {
     "data": {
      "text/plain": [
       "array([[1547,  682],\n",
       "       [ 618, 4354]], dtype=int64)"
      ]
     },
     "execution_count": 30,
     "metadata": {},
     "output_type": "execute_result"
    }
   ],
   "source": [
    "cm=confusion_matrix(y_test,y_test_pred)\n",
    "cm"
   ]
  },
  {
   "cell_type": "code",
   "execution_count": 31,
   "id": "431669aa",
   "metadata": {},
   "outputs": [],
   "source": [
    "from sklearn.linear_model import LogisticRegression"
   ]
  },
  {
   "cell_type": "code",
   "execution_count": 32,
   "id": "b87c1afb",
   "metadata": {},
   "outputs": [],
   "source": [
    "lr_model=LogisticRegression()\n",
    "lr_model.fit(x_train,y_train)\n",
    "lr_model_p=lr_model.predict(x_test)"
   ]
  },
  {
   "cell_type": "code",
   "execution_count": 33,
   "id": "0418be4d",
   "metadata": {},
   "outputs": [
    {
     "data": {
      "text/plain": [
       "array([[1530,  699],\n",
       "       [ 569, 4403]], dtype=int64)"
      ]
     },
     "execution_count": 33,
     "metadata": {},
     "output_type": "execute_result"
    }
   ],
   "source": [
    "confusion_matrix(y_test,lr_model_p)"
   ]
  },
  {
   "cell_type": "code",
   "execution_count": 34,
   "id": "c723a5e4",
   "metadata": {},
   "outputs": [
    {
     "name": "stdout",
     "output_type": "stream",
     "text": [
      "              precision    recall  f1-score   support\n",
      "\n",
      "           0       0.73      0.69      0.71      2229\n",
      "           1       0.86      0.89      0.87      4972\n",
      "\n",
      "    accuracy                           0.82      7201\n",
      "   macro avg       0.80      0.79      0.79      7201\n",
      "weighted avg       0.82      0.82      0.82      7201\n",
      "\n"
     ]
    }
   ],
   "source": [
    "print(classification_report(y_test,lr_model_p))"
   ]
  },
  {
   "cell_type": "code",
   "execution_count": 35,
   "id": "62ca678e",
   "metadata": {},
   "outputs": [],
   "source": [
    "from sklearn.tree import DecisionTreeClassifier"
   ]
  },
  {
   "cell_type": "code",
   "execution_count": 36,
   "id": "bd82f836",
   "metadata": {},
   "outputs": [
    {
     "data": {
      "text/plain": [
       "DecisionTreeClassifier(criterion='entropy')"
      ]
     },
     "execution_count": 36,
     "metadata": {},
     "output_type": "execute_result"
    }
   ],
   "source": [
    "dt_model=DecisionTreeClassifier(criterion='entropy')\n",
    "dt_model.fit(x_train,y_train)"
   ]
  },
  {
   "cell_type": "code",
   "execution_count": 37,
   "id": "917ac406",
   "metadata": {},
   "outputs": [
    {
     "data": {
      "text/plain": [
       "array([[1147,  514],\n",
       "       [1082, 4458]], dtype=int64)"
      ]
     },
     "execution_count": 37,
     "metadata": {},
     "output_type": "execute_result"
    }
   ],
   "source": [
    "dt_model_p=dt_model.predict(x_test)\n",
    "confusion_matrix(y_test,dt_model_p)"
   ]
  },
  {
   "cell_type": "code",
   "execution_count": 38,
   "id": "cb138cd3",
   "metadata": {},
   "outputs": [
    {
     "name": "stdout",
     "output_type": "stream",
     "text": [
      "              precision    recall  f1-score   support\n",
      "\n",
      "           0       0.69      0.51      0.59      2229\n",
      "           1       0.80      0.90      0.85      4972\n",
      "\n",
      "    accuracy                           0.78      7201\n",
      "   macro avg       0.75      0.71      0.72      7201\n",
      "weighted avg       0.77      0.78      0.77      7201\n",
      "\n"
     ]
    }
   ],
   "source": [
    "print(classification_report(y_test,dt_model_p))"
   ]
  },
  {
   "cell_type": "code",
   "execution_count": 39,
   "id": "f61c6005",
   "metadata": {},
   "outputs": [],
   "source": [
    "from sklearn.ensemble import RandomForestClassifier"
   ]
  },
  {
   "cell_type": "code",
   "execution_count": 40,
   "id": "46fee41c",
   "metadata": {},
   "outputs": [
    {
     "data": {
      "text/plain": [
       "RandomForestClassifier()"
      ]
     },
     "execution_count": 40,
     "metadata": {},
     "output_type": "execute_result"
    }
   ],
   "source": [
    "rf_model=RandomForestClassifier(n_estimators=100)\n",
    "rf_model.fit(x_train,y_train) "
   ]
  },
  {
   "cell_type": "code",
   "execution_count": 41,
   "id": "e6e9f67c",
   "metadata": {},
   "outputs": [],
   "source": [
    "rf_model_p=rf_model.predict(x_test)"
   ]
  },
  {
   "cell_type": "code",
   "execution_count": 42,
   "id": "5d546b93",
   "metadata": {},
   "outputs": [
    {
     "data": {
      "text/plain": [
       "array([[1546,  537],\n",
       "       [ 683, 4435]], dtype=int64)"
      ]
     },
     "execution_count": 42,
     "metadata": {},
     "output_type": "execute_result"
    }
   ],
   "source": [
    "confusion_matrix(y_test,rf_model_p)"
   ]
  },
  {
   "cell_type": "code",
   "execution_count": 43,
   "id": "09c91996",
   "metadata": {},
   "outputs": [
    {
     "name": "stdout",
     "output_type": "stream",
     "text": [
      "              precision    recall  f1-score   support\n",
      "\n",
      "           0       0.74      0.69      0.72      2229\n",
      "           1       0.87      0.89      0.88      4972\n",
      "\n",
      "    accuracy                           0.83      7201\n",
      "   macro avg       0.80      0.79      0.80      7201\n",
      "weighted avg       0.83      0.83      0.83      7201\n",
      "\n"
     ]
    }
   ],
   "source": [
    "print(classification_report(y_test,rf_model_p))"
   ]
  },
  {
   "cell_type": "code",
   "execution_count": 77,
   "id": "c981e991",
   "metadata": {},
   "outputs": [],
   "source": [
    "chrome_df['sentiment_pred']=rf_model_p"
   ]
  },
  {
   "cell_type": "markdown",
   "id": "fb7c5afe",
   "metadata": {},
   "source": [
    "## Ranking Analysis"
   ]
  },
  {
   "cell_type": "code",
   "execution_count": 44,
   "id": "eb31ce67",
   "metadata": {},
   "outputs": [],
   "source": [
    "ranking_df=pd.read_csv('Downloads/browser_rankings_data.csv')"
   ]
  },
  {
   "cell_type": "code",
   "execution_count": 45,
   "id": "eb4b3de9",
   "metadata": {},
   "outputs": [
    {
     "data": {
      "text/html": [
       "<div>\n",
       "<style scoped>\n",
       "    .dataframe tbody tr th:only-of-type {\n",
       "        vertical-align: middle;\n",
       "    }\n",
       "\n",
       "    .dataframe tbody tr th {\n",
       "        vertical-align: top;\n",
       "    }\n",
       "\n",
       "    .dataframe thead th {\n",
       "        text-align: right;\n",
       "    }\n",
       "</style>\n",
       "<table border=\"1\" class=\"dataframe\">\n",
       "  <thead>\n",
       "    <tr style=\"text-align: right;\">\n",
       "      <th></th>\n",
       "      <th>ID</th>\n",
       "      <th>Keyword</th>\n",
       "      <th>Rank</th>\n",
       "      <th>Country</th>\n",
       "      <th>Language</th>\n",
       "      <th>Date</th>\n",
       "      <th>App ID</th>\n",
       "      <th>Date of Last Description Change</th>\n",
       "      <th>Short Description</th>\n",
       "      <th>Long Description</th>\n",
       "    </tr>\n",
       "  </thead>\n",
       "  <tbody>\n",
       "    <tr>\n",
       "      <th>0</th>\n",
       "      <td>1</td>\n",
       "      <td>browser</td>\n",
       "      <td>2.0</td>\n",
       "      <td>in</td>\n",
       "      <td>en</td>\n",
       "      <td>16-12-2020</td>\n",
       "      <td>net.fast.web.browser</td>\n",
       "      <td>18-12-2020</td>\n",
       "      <td>The small, fastest, secure Web Browser, best m...</td>\n",
       "      <td>One of the smallest, fastest, secure Web Brows...</td>\n",
       "    </tr>\n",
       "    <tr>\n",
       "      <th>1</th>\n",
       "      <td>2</td>\n",
       "      <td>browser</td>\n",
       "      <td>3.0</td>\n",
       "      <td>in</td>\n",
       "      <td>en</td>\n",
       "      <td>16-12-2020</td>\n",
       "      <td>com.android.chrome</td>\n",
       "      <td>18-12-2020</td>\n",
       "      <td>Fast, simple, and secure. Google Chrome browse...</td>\n",
       "      <td>Google Chrome is a fast, easy to use, and secu...</td>\n",
       "    </tr>\n",
       "    <tr>\n",
       "      <th>2</th>\n",
       "      <td>3</td>\n",
       "      <td>browser</td>\n",
       "      <td>4.0</td>\n",
       "      <td>in</td>\n",
       "      <td>en</td>\n",
       "      <td>16-12-2020</td>\n",
       "      <td>com.opera.browser</td>\n",
       "      <td>27-02-2021</td>\n",
       "      <td>Fast, safe web browser: free VPN, Ad blocker, ...</td>\n",
       "      <td>Fast, safe and private, introducing the latest...</td>\n",
       "    </tr>\n",
       "    <tr>\n",
       "      <th>3</th>\n",
       "      <td>3</td>\n",
       "      <td>browser</td>\n",
       "      <td>4.0</td>\n",
       "      <td>in</td>\n",
       "      <td>en</td>\n",
       "      <td>16-12-2020</td>\n",
       "      <td>com.opera.browser</td>\n",
       "      <td>18-12-2020</td>\n",
       "      <td>Fast, safe web browser: free VPN, Ad blocker, ...</td>\n",
       "      <td>Opera is a fast, safe web browser for your And...</td>\n",
       "    </tr>\n",
       "    <tr>\n",
       "      <th>4</th>\n",
       "      <td>4</td>\n",
       "      <td>browser</td>\n",
       "      <td>1.0</td>\n",
       "      <td>in</td>\n",
       "      <td>en</td>\n",
       "      <td>16-12-2020</td>\n",
       "      <td>com.cloudmosa.puffinTV</td>\n",
       "      <td>07-02-2021</td>\n",
       "      <td>Puffin TV Browser - One App to Watch All Video...</td>\n",
       "      <td>Puffin TV Browser is a special edition of Puff...</td>\n",
       "    </tr>\n",
       "  </tbody>\n",
       "</table>\n",
       "</div>"
      ],
      "text/plain": [
       "   ID  Keyword  Rank Country Language        Date                  App ID  \\\n",
       "0   1  browser   2.0      in       en  16-12-2020    net.fast.web.browser   \n",
       "1   2  browser   3.0      in       en  16-12-2020      com.android.chrome   \n",
       "2   3  browser   4.0      in       en  16-12-2020       com.opera.browser   \n",
       "3   3  browser   4.0      in       en  16-12-2020       com.opera.browser   \n",
       "4   4  browser   1.0      in       en  16-12-2020  com.cloudmosa.puffinTV   \n",
       "\n",
       "  Date of Last Description Change  \\\n",
       "0                      18-12-2020   \n",
       "1                      18-12-2020   \n",
       "2                      27-02-2021   \n",
       "3                      18-12-2020   \n",
       "4                      07-02-2021   \n",
       "\n",
       "                                   Short Description  \\\n",
       "0  The small, fastest, secure Web Browser, best m...   \n",
       "1  Fast, simple, and secure. Google Chrome browse...   \n",
       "2  Fast, safe web browser: free VPN, Ad blocker, ...   \n",
       "3  Fast, safe web browser: free VPN, Ad blocker, ...   \n",
       "4  Puffin TV Browser - One App to Watch All Video...   \n",
       "\n",
       "                                    Long Description  \n",
       "0  One of the smallest, fastest, secure Web Brows...  \n",
       "1  Google Chrome is a fast, easy to use, and secu...  \n",
       "2  Fast, safe and private, introducing the latest...  \n",
       "3  Opera is a fast, safe web browser for your And...  \n",
       "4  Puffin TV Browser is a special edition of Puff...  "
      ]
     },
     "execution_count": 45,
     "metadata": {},
     "output_type": "execute_result"
    }
   ],
   "source": [
    "ranking_df.dropna(axis=0,inplace=True)\n",
    "ranking_df.head()"
   ]
  },
  {
   "cell_type": "code",
   "execution_count": 46,
   "id": "4ded9b0f",
   "metadata": {},
   "outputs": [
    {
     "data": {
      "text/plain": [
       "ID                                   int64\n",
       "Keyword                             object\n",
       "Rank                               float64\n",
       "Country                             object\n",
       "Language                            object\n",
       "Date                                object\n",
       "App ID                              object\n",
       "Date of Last Description Change     object\n",
       "Short Description                   object\n",
       "Long Description                    object\n",
       "dtype: object"
      ]
     },
     "execution_count": 46,
     "metadata": {},
     "output_type": "execute_result"
    }
   ],
   "source": [
    "ranking_df.dtypes"
   ]
  },
  {
   "cell_type": "code",
   "execution_count": 47,
   "id": "6f325f79",
   "metadata": {},
   "outputs": [],
   "source": [
    "import random\n",
    "sample1=random.sample(range(0,ranking_df.shape[0]),300)"
   ]
  },
  {
   "cell_type": "code",
   "execution_count": 48,
   "id": "d4a2547c",
   "metadata": {},
   "outputs": [],
   "source": [
    "sample_df=pd.DataFrame(ranking_df,index=sample1)"
   ]
  },
  {
   "cell_type": "code",
   "execution_count": 49,
   "id": "7c8efe07",
   "metadata": {},
   "outputs": [],
   "source": [
    "sample_df['Short Description'] =[re.sub(r'[^\\w\\s]','',str(i)).lower() for i in sample_df['Short Description']]\n",
    "sample_df['Long Description'] =[re.sub(r'[^\\w\\s]','',str(i)).lower() for i in sample_df['Long Description']]"
   ]
  },
  {
   "cell_type": "code",
   "execution_count": 50,
   "id": "d5812c71",
   "metadata": {},
   "outputs": [],
   "source": [
    "table1=pd.crosstab(sample_df['Short Description'],sample_df['Long Description'])"
   ]
  },
  {
   "cell_type": "code",
   "execution_count": 51,
   "id": "9feeaf3c",
   "metadata": {},
   "outputs": [],
   "source": [
    "from scipy.stats import chi2_contingency\n",
    "stat,p_value1,dof,expected1=chi2_contingency(table1)"
   ]
  },
  {
   "cell_type": "code",
   "execution_count": 52,
   "id": "17a2ace0",
   "metadata": {},
   "outputs": [
    {
     "name": "stdout",
     "output_type": "stream",
     "text": [
      "Reject H0,There is a relationship between 2 categorical variables\n"
     ]
    }
   ],
   "source": [
    "alpha = 0.05\n",
    "if p_value1<=alpha:\n",
    "    print(\"Reject H0,There is a relationship between 2 categorical variables\")\n",
    "else:\n",
    "    print(\"Retain H0,There is no relationship between 2 categorical variables\")"
   ]
  },
  {
   "cell_type": "code",
   "execution_count": 53,
   "id": "bb6d0330",
   "metadata": {},
   "outputs": [],
   "source": [
    "table2=pd.crosstab(sample_df['Short Description'],sample_df['Rank'])"
   ]
  },
  {
   "cell_type": "code",
   "execution_count": 54,
   "id": "003356b5",
   "metadata": {},
   "outputs": [],
   "source": [
    "stat,p_value2,dof,expected2=chi2_contingency(table2)"
   ]
  },
  {
   "cell_type": "code",
   "execution_count": 55,
   "id": "2a82c13d",
   "metadata": {},
   "outputs": [
    {
     "name": "stdout",
     "output_type": "stream",
     "text": [
      "Reject H0,There is a relationship between 2 categorical variables\n"
     ]
    }
   ],
   "source": [
    "if p_value2<=alpha:\n",
    "    print(\"Reject H0,There is a relationship between 2 categorical variables\")\n",
    "else:\n",
    "    print(\"Retain H0,There is no relationship between 2 categorical variables\")"
   ]
  },
  {
   "cell_type": "code",
   "execution_count": 56,
   "id": "d8a51d4b",
   "metadata": {},
   "outputs": [],
   "source": [
    "table3=pd.crosstab(sample_df['Long Description'],sample_df['Rank'])"
   ]
  },
  {
   "cell_type": "code",
   "execution_count": 57,
   "id": "bfab1a8d",
   "metadata": {},
   "outputs": [],
   "source": [
    "stat,p_value3,dof,expected3=chi2_contingency(table3)"
   ]
  },
  {
   "cell_type": "code",
   "execution_count": 58,
   "id": "ca3c52ac",
   "metadata": {},
   "outputs": [
    {
     "name": "stdout",
     "output_type": "stream",
     "text": [
      "Reject H0,There is a relationship between 2 categorical variables\n"
     ]
    }
   ],
   "source": [
    "if p_value3<=alpha:\n",
    "    print(\"Reject H0,There is a relationship between 2 categorical variables\")\n",
    "else:\n",
    "    print(\"Retain H0,There is no relationship between 2 categorical variables\")"
   ]
  },
  {
   "cell_type": "code",
   "execution_count": 59,
   "id": "3a2df355",
   "metadata": {},
   "outputs": [],
   "source": [
    "rank=pd.crosstab(ranking_df['Rank'],ranking_df['App ID'])"
   ]
  },
  {
   "cell_type": "code",
   "execution_count": 60,
   "id": "29efebdd",
   "metadata": {},
   "outputs": [
    {
     "data": {
      "text/html": [
       "<div>\n",
       "<style scoped>\n",
       "    .dataframe tbody tr th:only-of-type {\n",
       "        vertical-align: middle;\n",
       "    }\n",
       "\n",
       "    .dataframe tbody tr th {\n",
       "        vertical-align: top;\n",
       "    }\n",
       "\n",
       "    .dataframe thead th {\n",
       "        text-align: right;\n",
       "    }\n",
       "</style>\n",
       "<table border=\"1\" class=\"dataframe\">\n",
       "  <thead>\n",
       "    <tr style=\"text-align: right;\">\n",
       "      <th>App ID</th>\n",
       "      <th>com.android.chrome</th>\n",
       "      <th>com.brave.browser</th>\n",
       "      <th>com.cloudmosa.puffinTV</th>\n",
       "      <th>com.duckduckgo.mobile.android</th>\n",
       "      <th>com.opera.browser</th>\n",
       "      <th>com.transsion.phoenix</th>\n",
       "      <th>com.vivaldi.browser</th>\n",
       "      <th>net.fast.web.browser</th>\n",
       "    </tr>\n",
       "    <tr>\n",
       "      <th>Rank</th>\n",
       "      <th></th>\n",
       "      <th></th>\n",
       "      <th></th>\n",
       "      <th></th>\n",
       "      <th></th>\n",
       "      <th></th>\n",
       "      <th></th>\n",
       "      <th></th>\n",
       "    </tr>\n",
       "  </thead>\n",
       "  <tbody>\n",
       "    <tr>\n",
       "      <th>1.0</th>\n",
       "      <td>18</td>\n",
       "      <td>5</td>\n",
       "      <td>72</td>\n",
       "      <td>428</td>\n",
       "      <td>8</td>\n",
       "      <td>0</td>\n",
       "      <td>0</td>\n",
       "      <td>31</td>\n",
       "    </tr>\n",
       "    <tr>\n",
       "      <th>2.0</th>\n",
       "      <td>6</td>\n",
       "      <td>201</td>\n",
       "      <td>212</td>\n",
       "      <td>12</td>\n",
       "      <td>38</td>\n",
       "      <td>0</td>\n",
       "      <td>0</td>\n",
       "      <td>21</td>\n",
       "    </tr>\n",
       "    <tr>\n",
       "      <th>3.0</th>\n",
       "      <td>7</td>\n",
       "      <td>57</td>\n",
       "      <td>80</td>\n",
       "      <td>0</td>\n",
       "      <td>62</td>\n",
       "      <td>0</td>\n",
       "      <td>0</td>\n",
       "      <td>8</td>\n",
       "    </tr>\n",
       "    <tr>\n",
       "      <th>4.0</th>\n",
       "      <td>6</td>\n",
       "      <td>39</td>\n",
       "      <td>76</td>\n",
       "      <td>0</td>\n",
       "      <td>44</td>\n",
       "      <td>0</td>\n",
       "      <td>0</td>\n",
       "      <td>5</td>\n",
       "    </tr>\n",
       "    <tr>\n",
       "      <th>5.0</th>\n",
       "      <td>1</td>\n",
       "      <td>20</td>\n",
       "      <td>32</td>\n",
       "      <td>12</td>\n",
       "      <td>50</td>\n",
       "      <td>0</td>\n",
       "      <td>0</td>\n",
       "      <td>10</td>\n",
       "    </tr>\n",
       "    <tr>\n",
       "      <th>6.0</th>\n",
       "      <td>5</td>\n",
       "      <td>23</td>\n",
       "      <td>36</td>\n",
       "      <td>104</td>\n",
       "      <td>34</td>\n",
       "      <td>6</td>\n",
       "      <td>0</td>\n",
       "      <td>5</td>\n",
       "    </tr>\n",
       "    <tr>\n",
       "      <th>7.0</th>\n",
       "      <td>4</td>\n",
       "      <td>9</td>\n",
       "      <td>40</td>\n",
       "      <td>24</td>\n",
       "      <td>26</td>\n",
       "      <td>11</td>\n",
       "      <td>0</td>\n",
       "      <td>8</td>\n",
       "    </tr>\n",
       "    <tr>\n",
       "      <th>8.0</th>\n",
       "      <td>11</td>\n",
       "      <td>10</td>\n",
       "      <td>8</td>\n",
       "      <td>10</td>\n",
       "      <td>16</td>\n",
       "      <td>15</td>\n",
       "      <td>0</td>\n",
       "      <td>12</td>\n",
       "    </tr>\n",
       "    <tr>\n",
       "      <th>9.0</th>\n",
       "      <td>1</td>\n",
       "      <td>2</td>\n",
       "      <td>16</td>\n",
       "      <td>2</td>\n",
       "      <td>12</td>\n",
       "      <td>15</td>\n",
       "      <td>0</td>\n",
       "      <td>8</td>\n",
       "    </tr>\n",
       "    <tr>\n",
       "      <th>10.0</th>\n",
       "      <td>8</td>\n",
       "      <td>2</td>\n",
       "      <td>12</td>\n",
       "      <td>0</td>\n",
       "      <td>10</td>\n",
       "      <td>20</td>\n",
       "      <td>0</td>\n",
       "      <td>8</td>\n",
       "    </tr>\n",
       "    <tr>\n",
       "      <th>11.0</th>\n",
       "      <td>14</td>\n",
       "      <td>1</td>\n",
       "      <td>8</td>\n",
       "      <td>2</td>\n",
       "      <td>0</td>\n",
       "      <td>8</td>\n",
       "      <td>0</td>\n",
       "      <td>12</td>\n",
       "    </tr>\n",
       "    <tr>\n",
       "      <th>12.0</th>\n",
       "      <td>14</td>\n",
       "      <td>0</td>\n",
       "      <td>8</td>\n",
       "      <td>0</td>\n",
       "      <td>0</td>\n",
       "      <td>7</td>\n",
       "      <td>0</td>\n",
       "      <td>7</td>\n",
       "    </tr>\n",
       "    <tr>\n",
       "      <th>13.0</th>\n",
       "      <td>15</td>\n",
       "      <td>1</td>\n",
       "      <td>0</td>\n",
       "      <td>2</td>\n",
       "      <td>0</td>\n",
       "      <td>9</td>\n",
       "      <td>0</td>\n",
       "      <td>6</td>\n",
       "    </tr>\n",
       "    <tr>\n",
       "      <th>14.0</th>\n",
       "      <td>17</td>\n",
       "      <td>0</td>\n",
       "      <td>8</td>\n",
       "      <td>0</td>\n",
       "      <td>4</td>\n",
       "      <td>14</td>\n",
       "      <td>0</td>\n",
       "      <td>7</td>\n",
       "    </tr>\n",
       "    <tr>\n",
       "      <th>15.0</th>\n",
       "      <td>11</td>\n",
       "      <td>0</td>\n",
       "      <td>0</td>\n",
       "      <td>2</td>\n",
       "      <td>0</td>\n",
       "      <td>13</td>\n",
       "      <td>0</td>\n",
       "      <td>2</td>\n",
       "    </tr>\n",
       "    <tr>\n",
       "      <th>16.0</th>\n",
       "      <td>7</td>\n",
       "      <td>0</td>\n",
       "      <td>0</td>\n",
       "      <td>2</td>\n",
       "      <td>0</td>\n",
       "      <td>25</td>\n",
       "      <td>0</td>\n",
       "      <td>1</td>\n",
       "    </tr>\n",
       "    <tr>\n",
       "      <th>17.0</th>\n",
       "      <td>3</td>\n",
       "      <td>0</td>\n",
       "      <td>0</td>\n",
       "      <td>4</td>\n",
       "      <td>0</td>\n",
       "      <td>27</td>\n",
       "      <td>1</td>\n",
       "      <td>0</td>\n",
       "    </tr>\n",
       "    <tr>\n",
       "      <th>18.0</th>\n",
       "      <td>2</td>\n",
       "      <td>0</td>\n",
       "      <td>0</td>\n",
       "      <td>4</td>\n",
       "      <td>0</td>\n",
       "      <td>21</td>\n",
       "      <td>4</td>\n",
       "      <td>0</td>\n",
       "    </tr>\n",
       "    <tr>\n",
       "      <th>19.0</th>\n",
       "      <td>0</td>\n",
       "      <td>0</td>\n",
       "      <td>0</td>\n",
       "      <td>4</td>\n",
       "      <td>0</td>\n",
       "      <td>14</td>\n",
       "      <td>5</td>\n",
       "      <td>0</td>\n",
       "    </tr>\n",
       "    <tr>\n",
       "      <th>20.0</th>\n",
       "      <td>2</td>\n",
       "      <td>0</td>\n",
       "      <td>0</td>\n",
       "      <td>6</td>\n",
       "      <td>0</td>\n",
       "      <td>15</td>\n",
       "      <td>10</td>\n",
       "      <td>0</td>\n",
       "    </tr>\n",
       "    <tr>\n",
       "      <th>21.0</th>\n",
       "      <td>0</td>\n",
       "      <td>0</td>\n",
       "      <td>0</td>\n",
       "      <td>12</td>\n",
       "      <td>0</td>\n",
       "      <td>9</td>\n",
       "      <td>6</td>\n",
       "      <td>0</td>\n",
       "    </tr>\n",
       "    <tr>\n",
       "      <th>22.0</th>\n",
       "      <td>0</td>\n",
       "      <td>0</td>\n",
       "      <td>0</td>\n",
       "      <td>4</td>\n",
       "      <td>0</td>\n",
       "      <td>13</td>\n",
       "      <td>7</td>\n",
       "      <td>0</td>\n",
       "    </tr>\n",
       "    <tr>\n",
       "      <th>23.0</th>\n",
       "      <td>0</td>\n",
       "      <td>0</td>\n",
       "      <td>0</td>\n",
       "      <td>8</td>\n",
       "      <td>0</td>\n",
       "      <td>7</td>\n",
       "      <td>5</td>\n",
       "      <td>0</td>\n",
       "    </tr>\n",
       "    <tr>\n",
       "      <th>24.0</th>\n",
       "      <td>0</td>\n",
       "      <td>0</td>\n",
       "      <td>0</td>\n",
       "      <td>10</td>\n",
       "      <td>0</td>\n",
       "      <td>7</td>\n",
       "      <td>2</td>\n",
       "      <td>1</td>\n",
       "    </tr>\n",
       "    <tr>\n",
       "      <th>25.0</th>\n",
       "      <td>0</td>\n",
       "      <td>0</td>\n",
       "      <td>0</td>\n",
       "      <td>4</td>\n",
       "      <td>0</td>\n",
       "      <td>4</td>\n",
       "      <td>2</td>\n",
       "      <td>0</td>\n",
       "    </tr>\n",
       "    <tr>\n",
       "      <th>26.0</th>\n",
       "      <td>0</td>\n",
       "      <td>0</td>\n",
       "      <td>0</td>\n",
       "      <td>6</td>\n",
       "      <td>0</td>\n",
       "      <td>7</td>\n",
       "      <td>2</td>\n",
       "      <td>0</td>\n",
       "    </tr>\n",
       "    <tr>\n",
       "      <th>27.0</th>\n",
       "      <td>0</td>\n",
       "      <td>0</td>\n",
       "      <td>0</td>\n",
       "      <td>4</td>\n",
       "      <td>0</td>\n",
       "      <td>6</td>\n",
       "      <td>4</td>\n",
       "      <td>0</td>\n",
       "    </tr>\n",
       "    <tr>\n",
       "      <th>28.0</th>\n",
       "      <td>0</td>\n",
       "      <td>0</td>\n",
       "      <td>0</td>\n",
       "      <td>6</td>\n",
       "      <td>0</td>\n",
       "      <td>8</td>\n",
       "      <td>2</td>\n",
       "      <td>0</td>\n",
       "    </tr>\n",
       "    <tr>\n",
       "      <th>29.0</th>\n",
       "      <td>0</td>\n",
       "      <td>0</td>\n",
       "      <td>0</td>\n",
       "      <td>2</td>\n",
       "      <td>0</td>\n",
       "      <td>7</td>\n",
       "      <td>1</td>\n",
       "      <td>0</td>\n",
       "    </tr>\n",
       "    <tr>\n",
       "      <th>30.0</th>\n",
       "      <td>0</td>\n",
       "      <td>0</td>\n",
       "      <td>0</td>\n",
       "      <td>16</td>\n",
       "      <td>0</td>\n",
       "      <td>2</td>\n",
       "      <td>2</td>\n",
       "      <td>0</td>\n",
       "    </tr>\n",
       "    <tr>\n",
       "      <th>31.0</th>\n",
       "      <td>0</td>\n",
       "      <td>0</td>\n",
       "      <td>0</td>\n",
       "      <td>8</td>\n",
       "      <td>0</td>\n",
       "      <td>4</td>\n",
       "      <td>3</td>\n",
       "      <td>0</td>\n",
       "    </tr>\n",
       "    <tr>\n",
       "      <th>32.0</th>\n",
       "      <td>0</td>\n",
       "      <td>0</td>\n",
       "      <td>0</td>\n",
       "      <td>8</td>\n",
       "      <td>0</td>\n",
       "      <td>3</td>\n",
       "      <td>0</td>\n",
       "      <td>0</td>\n",
       "    </tr>\n",
       "    <tr>\n",
       "      <th>33.0</th>\n",
       "      <td>0</td>\n",
       "      <td>0</td>\n",
       "      <td>0</td>\n",
       "      <td>6</td>\n",
       "      <td>0</td>\n",
       "      <td>3</td>\n",
       "      <td>0</td>\n",
       "      <td>0</td>\n",
       "    </tr>\n",
       "    <tr>\n",
       "      <th>34.0</th>\n",
       "      <td>0</td>\n",
       "      <td>0</td>\n",
       "      <td>0</td>\n",
       "      <td>6</td>\n",
       "      <td>0</td>\n",
       "      <td>5</td>\n",
       "      <td>1</td>\n",
       "      <td>0</td>\n",
       "    </tr>\n",
       "    <tr>\n",
       "      <th>35.0</th>\n",
       "      <td>0</td>\n",
       "      <td>0</td>\n",
       "      <td>0</td>\n",
       "      <td>4</td>\n",
       "      <td>0</td>\n",
       "      <td>1</td>\n",
       "      <td>1</td>\n",
       "      <td>0</td>\n",
       "    </tr>\n",
       "    <tr>\n",
       "      <th>36.0</th>\n",
       "      <td>0</td>\n",
       "      <td>0</td>\n",
       "      <td>0</td>\n",
       "      <td>0</td>\n",
       "      <td>0</td>\n",
       "      <td>3</td>\n",
       "      <td>2</td>\n",
       "      <td>0</td>\n",
       "    </tr>\n",
       "    <tr>\n",
       "      <th>37.0</th>\n",
       "      <td>0</td>\n",
       "      <td>0</td>\n",
       "      <td>0</td>\n",
       "      <td>2</td>\n",
       "      <td>0</td>\n",
       "      <td>1</td>\n",
       "      <td>0</td>\n",
       "      <td>0</td>\n",
       "    </tr>\n",
       "    <tr>\n",
       "      <th>38.0</th>\n",
       "      <td>0</td>\n",
       "      <td>0</td>\n",
       "      <td>0</td>\n",
       "      <td>0</td>\n",
       "      <td>0</td>\n",
       "      <td>2</td>\n",
       "      <td>4</td>\n",
       "      <td>0</td>\n",
       "    </tr>\n",
       "    <tr>\n",
       "      <th>39.0</th>\n",
       "      <td>0</td>\n",
       "      <td>0</td>\n",
       "      <td>0</td>\n",
       "      <td>2</td>\n",
       "      <td>0</td>\n",
       "      <td>2</td>\n",
       "      <td>2</td>\n",
       "      <td>0</td>\n",
       "    </tr>\n",
       "    <tr>\n",
       "      <th>40.0</th>\n",
       "      <td>0</td>\n",
       "      <td>0</td>\n",
       "      <td>0</td>\n",
       "      <td>6</td>\n",
       "      <td>0</td>\n",
       "      <td>3</td>\n",
       "      <td>4</td>\n",
       "      <td>0</td>\n",
       "    </tr>\n",
       "    <tr>\n",
       "      <th>41.0</th>\n",
       "      <td>0</td>\n",
       "      <td>0</td>\n",
       "      <td>0</td>\n",
       "      <td>0</td>\n",
       "      <td>0</td>\n",
       "      <td>1</td>\n",
       "      <td>1</td>\n",
       "      <td>0</td>\n",
       "    </tr>\n",
       "    <tr>\n",
       "      <th>42.0</th>\n",
       "      <td>0</td>\n",
       "      <td>0</td>\n",
       "      <td>0</td>\n",
       "      <td>2</td>\n",
       "      <td>0</td>\n",
       "      <td>2</td>\n",
       "      <td>5</td>\n",
       "      <td>0</td>\n",
       "    </tr>\n",
       "    <tr>\n",
       "      <th>43.0</th>\n",
       "      <td>0</td>\n",
       "      <td>0</td>\n",
       "      <td>0</td>\n",
       "      <td>2</td>\n",
       "      <td>0</td>\n",
       "      <td>4</td>\n",
       "      <td>4</td>\n",
       "      <td>0</td>\n",
       "    </tr>\n",
       "    <tr>\n",
       "      <th>44.0</th>\n",
       "      <td>0</td>\n",
       "      <td>0</td>\n",
       "      <td>0</td>\n",
       "      <td>4</td>\n",
       "      <td>0</td>\n",
       "      <td>3</td>\n",
       "      <td>2</td>\n",
       "      <td>0</td>\n",
       "    </tr>\n",
       "    <tr>\n",
       "      <th>45.0</th>\n",
       "      <td>0</td>\n",
       "      <td>0</td>\n",
       "      <td>0</td>\n",
       "      <td>0</td>\n",
       "      <td>0</td>\n",
       "      <td>0</td>\n",
       "      <td>3</td>\n",
       "      <td>0</td>\n",
       "    </tr>\n",
       "    <tr>\n",
       "      <th>46.0</th>\n",
       "      <td>0</td>\n",
       "      <td>0</td>\n",
       "      <td>0</td>\n",
       "      <td>0</td>\n",
       "      <td>0</td>\n",
       "      <td>2</td>\n",
       "      <td>1</td>\n",
       "      <td>0</td>\n",
       "    </tr>\n",
       "    <tr>\n",
       "      <th>47.0</th>\n",
       "      <td>0</td>\n",
       "      <td>0</td>\n",
       "      <td>0</td>\n",
       "      <td>0</td>\n",
       "      <td>0</td>\n",
       "      <td>0</td>\n",
       "      <td>1</td>\n",
       "      <td>0</td>\n",
       "    </tr>\n",
       "    <tr>\n",
       "      <th>48.0</th>\n",
       "      <td>0</td>\n",
       "      <td>0</td>\n",
       "      <td>0</td>\n",
       "      <td>0</td>\n",
       "      <td>0</td>\n",
       "      <td>2</td>\n",
       "      <td>5</td>\n",
       "      <td>0</td>\n",
       "    </tr>\n",
       "    <tr>\n",
       "      <th>50.0</th>\n",
       "      <td>0</td>\n",
       "      <td>0</td>\n",
       "      <td>0</td>\n",
       "      <td>0</td>\n",
       "      <td>0</td>\n",
       "      <td>1</td>\n",
       "      <td>10</td>\n",
       "      <td>0</td>\n",
       "    </tr>\n",
       "  </tbody>\n",
       "</table>\n",
       "</div>"
      ],
      "text/plain": [
       "App ID  com.android.chrome  com.brave.browser  com.cloudmosa.puffinTV  \\\n",
       "Rank                                                                    \n",
       "1.0                     18                  5                      72   \n",
       "2.0                      6                201                     212   \n",
       "3.0                      7                 57                      80   \n",
       "4.0                      6                 39                      76   \n",
       "5.0                      1                 20                      32   \n",
       "6.0                      5                 23                      36   \n",
       "7.0                      4                  9                      40   \n",
       "8.0                     11                 10                       8   \n",
       "9.0                      1                  2                      16   \n",
       "10.0                     8                  2                      12   \n",
       "11.0                    14                  1                       8   \n",
       "12.0                    14                  0                       8   \n",
       "13.0                    15                  1                       0   \n",
       "14.0                    17                  0                       8   \n",
       "15.0                    11                  0                       0   \n",
       "16.0                     7                  0                       0   \n",
       "17.0                     3                  0                       0   \n",
       "18.0                     2                  0                       0   \n",
       "19.0                     0                  0                       0   \n",
       "20.0                     2                  0                       0   \n",
       "21.0                     0                  0                       0   \n",
       "22.0                     0                  0                       0   \n",
       "23.0                     0                  0                       0   \n",
       "24.0                     0                  0                       0   \n",
       "25.0                     0                  0                       0   \n",
       "26.0                     0                  0                       0   \n",
       "27.0                     0                  0                       0   \n",
       "28.0                     0                  0                       0   \n",
       "29.0                     0                  0                       0   \n",
       "30.0                     0                  0                       0   \n",
       "31.0                     0                  0                       0   \n",
       "32.0                     0                  0                       0   \n",
       "33.0                     0                  0                       0   \n",
       "34.0                     0                  0                       0   \n",
       "35.0                     0                  0                       0   \n",
       "36.0                     0                  0                       0   \n",
       "37.0                     0                  0                       0   \n",
       "38.0                     0                  0                       0   \n",
       "39.0                     0                  0                       0   \n",
       "40.0                     0                  0                       0   \n",
       "41.0                     0                  0                       0   \n",
       "42.0                     0                  0                       0   \n",
       "43.0                     0                  0                       0   \n",
       "44.0                     0                  0                       0   \n",
       "45.0                     0                  0                       0   \n",
       "46.0                     0                  0                       0   \n",
       "47.0                     0                  0                       0   \n",
       "48.0                     0                  0                       0   \n",
       "50.0                     0                  0                       0   \n",
       "\n",
       "App ID  com.duckduckgo.mobile.android  com.opera.browser  \\\n",
       "Rank                                                       \n",
       "1.0                               428                  8   \n",
       "2.0                                12                 38   \n",
       "3.0                                 0                 62   \n",
       "4.0                                 0                 44   \n",
       "5.0                                12                 50   \n",
       "6.0                               104                 34   \n",
       "7.0                                24                 26   \n",
       "8.0                                10                 16   \n",
       "9.0                                 2                 12   \n",
       "10.0                                0                 10   \n",
       "11.0                                2                  0   \n",
       "12.0                                0                  0   \n",
       "13.0                                2                  0   \n",
       "14.0                                0                  4   \n",
       "15.0                                2                  0   \n",
       "16.0                                2                  0   \n",
       "17.0                                4                  0   \n",
       "18.0                                4                  0   \n",
       "19.0                                4                  0   \n",
       "20.0                                6                  0   \n",
       "21.0                               12                  0   \n",
       "22.0                                4                  0   \n",
       "23.0                                8                  0   \n",
       "24.0                               10                  0   \n",
       "25.0                                4                  0   \n",
       "26.0                                6                  0   \n",
       "27.0                                4                  0   \n",
       "28.0                                6                  0   \n",
       "29.0                                2                  0   \n",
       "30.0                               16                  0   \n",
       "31.0                                8                  0   \n",
       "32.0                                8                  0   \n",
       "33.0                                6                  0   \n",
       "34.0                                6                  0   \n",
       "35.0                                4                  0   \n",
       "36.0                                0                  0   \n",
       "37.0                                2                  0   \n",
       "38.0                                0                  0   \n",
       "39.0                                2                  0   \n",
       "40.0                                6                  0   \n",
       "41.0                                0                  0   \n",
       "42.0                                2                  0   \n",
       "43.0                                2                  0   \n",
       "44.0                                4                  0   \n",
       "45.0                                0                  0   \n",
       "46.0                                0                  0   \n",
       "47.0                                0                  0   \n",
       "48.0                                0                  0   \n",
       "50.0                                0                  0   \n",
       "\n",
       "App ID  com.transsion.phoenix  com.vivaldi.browser  net.fast.web.browser  \n",
       "Rank                                                                      \n",
       "1.0                         0                    0                    31  \n",
       "2.0                         0                    0                    21  \n",
       "3.0                         0                    0                     8  \n",
       "4.0                         0                    0                     5  \n",
       "5.0                         0                    0                    10  \n",
       "6.0                         6                    0                     5  \n",
       "7.0                        11                    0                     8  \n",
       "8.0                        15                    0                    12  \n",
       "9.0                        15                    0                     8  \n",
       "10.0                       20                    0                     8  \n",
       "11.0                        8                    0                    12  \n",
       "12.0                        7                    0                     7  \n",
       "13.0                        9                    0                     6  \n",
       "14.0                       14                    0                     7  \n",
       "15.0                       13                    0                     2  \n",
       "16.0                       25                    0                     1  \n",
       "17.0                       27                    1                     0  \n",
       "18.0                       21                    4                     0  \n",
       "19.0                       14                    5                     0  \n",
       "20.0                       15                   10                     0  \n",
       "21.0                        9                    6                     0  \n",
       "22.0                       13                    7                     0  \n",
       "23.0                        7                    5                     0  \n",
       "24.0                        7                    2                     1  \n",
       "25.0                        4                    2                     0  \n",
       "26.0                        7                    2                     0  \n",
       "27.0                        6                    4                     0  \n",
       "28.0                        8                    2                     0  \n",
       "29.0                        7                    1                     0  \n",
       "30.0                        2                    2                     0  \n",
       "31.0                        4                    3                     0  \n",
       "32.0                        3                    0                     0  \n",
       "33.0                        3                    0                     0  \n",
       "34.0                        5                    1                     0  \n",
       "35.0                        1                    1                     0  \n",
       "36.0                        3                    2                     0  \n",
       "37.0                        1                    0                     0  \n",
       "38.0                        2                    4                     0  \n",
       "39.0                        2                    2                     0  \n",
       "40.0                        3                    4                     0  \n",
       "41.0                        1                    1                     0  \n",
       "42.0                        2                    5                     0  \n",
       "43.0                        4                    4                     0  \n",
       "44.0                        3                    2                     0  \n",
       "45.0                        0                    3                     0  \n",
       "46.0                        2                    1                     0  \n",
       "47.0                        0                    1                     0  \n",
       "48.0                        2                    5                     0  \n",
       "50.0                        1                   10                     0  "
      ]
     },
     "execution_count": 60,
     "metadata": {},
     "output_type": "execute_result"
    }
   ],
   "source": [
    "rank[:50]"
   ]
  },
  {
   "cell_type": "markdown",
   "id": "7507b230",
   "metadata": {},
   "source": [
    "## Grammar Correction"
   ]
  },
  {
   "cell_type": "code",
   "execution_count": 61,
   "id": "d77d42b2",
   "metadata": {},
   "outputs": [
    {
     "data": {
      "text/html": [
       "<div>\n",
       "<style scoped>\n",
       "    .dataframe tbody tr th:only-of-type {\n",
       "        vertical-align: middle;\n",
       "    }\n",
       "\n",
       "    .dataframe tbody tr th {\n",
       "        vertical-align: top;\n",
       "    }\n",
       "\n",
       "    .dataframe thead th {\n",
       "        text-align: right;\n",
       "    }\n",
       "</style>\n",
       "<table border=\"1\" class=\"dataframe\">\n",
       "  <thead>\n",
       "    <tr style=\"text-align: right;\">\n",
       "      <th></th>\n",
       "      <th>text</th>\n",
       "      <th>star</th>\n",
       "      <th>app_id</th>\n",
       "      <th>reviewDate</th>\n",
       "    </tr>\n",
       "  </thead>\n",
       "  <tbody>\n",
       "    <tr>\n",
       "      <th>0</th>\n",
       "      <td>Anathi Khanyile</td>\n",
       "      <td>5</td>\n",
       "      <td>com.fingersoft.hillclimb</td>\n",
       "      <td>18/03/21</td>\n",
       "    </tr>\n",
       "    <tr>\n",
       "      <th>1</th>\n",
       "      <td>Tony bahut funny hai Hill climbing racing my f...</td>\n",
       "      <td>5</td>\n",
       "      <td>com.fingersoft.hillclimb</td>\n",
       "      <td>18/03/21</td>\n",
       "    </tr>\n",
       "    <tr>\n",
       "      <th>2</th>\n",
       "      <td>Teturwu</td>\n",
       "      <td>1</td>\n",
       "      <td>com.fingersoft.hillclimb</td>\n",
       "      <td>18/03/21</td>\n",
       "    </tr>\n",
       "    <tr>\n",
       "      <th>3</th>\n",
       "      <td>Hoooooooooooyaaaaaaaaa what a game hoooooooooo...</td>\n",
       "      <td>5</td>\n",
       "      <td>com.fingersoft.hillclimb</td>\n",
       "      <td>18/03/21</td>\n",
       "    </tr>\n",
       "    <tr>\n",
       "      <th>4</th>\n",
       "      <td>This game is nice</td>\n",
       "      <td>5</td>\n",
       "      <td>com.fingersoft.hillclimb</td>\n",
       "      <td>18/03/21</td>\n",
       "    </tr>\n",
       "    <tr>\n",
       "      <th>...</th>\n",
       "      <td>...</td>\n",
       "      <td>...</td>\n",
       "      <td>...</td>\n",
       "      <td>...</td>\n",
       "    </tr>\n",
       "    <tr>\n",
       "      <th>29995</th>\n",
       "      <td>Plz my Vidos viral</td>\n",
       "      <td>5</td>\n",
       "      <td>video.like</td>\n",
       "      <td>21/03/21</td>\n",
       "    </tr>\n",
       "    <tr>\n",
       "      <th>29996</th>\n",
       "      <td>Nice</td>\n",
       "      <td>5</td>\n",
       "      <td>video.like</td>\n",
       "      <td>21/03/21</td>\n",
       "    </tr>\n",
       "    <tr>\n",
       "      <th>29997</th>\n",
       "      <td>Disturbing too much as YouTube ad</td>\n",
       "      <td>1</td>\n",
       "      <td>video.like</td>\n",
       "      <td>21/03/21</td>\n",
       "    </tr>\n",
       "    <tr>\n",
       "      <th>29998</th>\n",
       "      <td>Koub valo vai</td>\n",
       "      <td>5</td>\n",
       "      <td>video.like</td>\n",
       "      <td>21/03/21</td>\n",
       "    </tr>\n",
       "    <tr>\n",
       "      <th>29999</th>\n",
       "      <td>I want to grow my account</td>\n",
       "      <td>5</td>\n",
       "      <td>video.like</td>\n",
       "      <td>21/03/21</td>\n",
       "    </tr>\n",
       "  </tbody>\n",
       "</table>\n",
       "<p>30000 rows × 4 columns</p>\n",
       "</div>"
      ],
      "text/plain": [
       "                                                    text  star  \\\n",
       "0                                        Anathi Khanyile     5   \n",
       "1      Tony bahut funny hai Hill climbing racing my f...     5   \n",
       "2                                                Teturwu     1   \n",
       "3      Hoooooooooooyaaaaaaaaa what a game hoooooooooo...     5   \n",
       "4                                      This game is nice     5   \n",
       "...                                                  ...   ...   \n",
       "29995                                 Plz my Vidos viral     5   \n",
       "29996                                               Nice     5   \n",
       "29997                  Disturbing too much as YouTube ad     1   \n",
       "29998                                      Koub valo vai     5   \n",
       "29999                          I want to grow my account     5   \n",
       "\n",
       "                         app_id reviewDate  \n",
       "0      com.fingersoft.hillclimb   18/03/21  \n",
       "1      com.fingersoft.hillclimb   18/03/21  \n",
       "2      com.fingersoft.hillclimb   18/03/21  \n",
       "3      com.fingersoft.hillclimb   18/03/21  \n",
       "4      com.fingersoft.hillclimb   18/03/21  \n",
       "...                         ...        ...  \n",
       "29995                video.like   21/03/21  \n",
       "29996                video.like   21/03/21  \n",
       "29997                video.like   21/03/21  \n",
       "29998                video.like   21/03/21  \n",
       "29999                video.like   21/03/21  \n",
       "\n",
       "[30000 rows x 4 columns]"
      ]
     },
     "execution_count": 61,
     "metadata": {},
     "output_type": "execute_result"
    }
   ],
   "source": [
    "grammar_df=pd.read_csv('Downloads/review_data.csv')\n",
    "grammar_df"
   ]
  },
  {
   "cell_type": "code",
   "execution_count": 62,
   "id": "09a9fde3",
   "metadata": {},
   "outputs": [
    {
     "data": {
      "text/plain": [
       "(30000, 4)"
      ]
     },
     "execution_count": 62,
     "metadata": {},
     "output_type": "execute_result"
    }
   ],
   "source": [
    "grammar_df.shape"
   ]
  },
  {
   "cell_type": "code",
   "execution_count": 63,
   "id": "cb62ea43",
   "metadata": {},
   "outputs": [
    {
     "data": {
      "text/plain": [
       "Good                                             1582\n",
       "Nice                                              708\n",
       "Excellent                                         263\n",
       "Very good                                         226\n",
       "good                                              218\n",
       "                                                 ... \n",
       "Forced to give access to storage permission .       1\n",
       "It's the best game ever I love playing it           1\n",
       "Some grab drivers are rude                          1\n",
       "Great. Have used it long time                       1\n",
       "Phone start lagging while using this app            1\n",
       "Name: text, Length: 21559, dtype: int64"
      ]
     },
     "execution_count": 63,
     "metadata": {},
     "output_type": "execute_result"
    }
   ],
   "source": [
    "grammar_df['text'].value_counts()"
   ]
  },
  {
   "cell_type": "code",
   "execution_count": 64,
   "id": "7035e682",
   "metadata": {},
   "outputs": [],
   "source": [
    "grammar_df['text'] =[re.sub(r'[^\\w\\s]','',str(i)).lower() for i in grammar_df['text']]"
   ]
  },
  {
   "cell_type": "code",
   "execution_count": 65,
   "id": "690b7850",
   "metadata": {},
   "outputs": [],
   "source": [
    "grammar_df.drop(grammar_df[grammar_df['text']==''].index,axis=0,inplace=True)"
   ]
  },
  {
   "cell_type": "code",
   "execution_count": 66,
   "id": "1cb0df06",
   "metadata": {},
   "outputs": [],
   "source": [
    "from happytransformer import HappyTextToText"
   ]
  },
  {
   "cell_type": "code",
   "execution_count": 67,
   "id": "e943d6a7",
   "metadata": {},
   "outputs": [
    {
     "name": "stderr",
     "output_type": "stream",
     "text": [
      "04/11/2022 22:41:42 - INFO - happytransformer.happy_transformer -   Using model: cpu\n"
     ]
    }
   ],
   "source": [
    "happy_text=HappyTextToText('T5','vennify/t5-base-grammar-correction')"
   ]
  },
  {
   "cell_type": "code",
   "execution_count": 68,
   "id": "586980cc",
   "metadata": {},
   "outputs": [],
   "source": [
    "from happytransformer import TTSettings"
   ]
  },
  {
   "cell_type": "code",
   "execution_count": 69,
   "id": "a002f124",
   "metadata": {},
   "outputs": [],
   "source": [
    "arg=TTSettings(num_beams=5,min_length=1)\n",
    "i=0\n",
    "def pred(tex):\n",
    "    global i\n",
    "    tet='grammar:'+tex\n",
    "    result=happy_text.generate_text(tet,args=arg)\n",
    "    print(i)\n",
    "    i+=1\n",
    "    if tex.lower()+'.'==result.text.lower():\n",
    "        return 0\n",
    "    return 1"
   ]
  },
  {
   "cell_type": "code",
   "execution_count": 70,
   "id": "e43d74be",
   "metadata": {
    "scrolled": true
   },
   "outputs": [
    {
     "name": "stdout",
     "output_type": "stream",
     "text": [
      "0\n",
      "1\n",
      "2\n",
      "3\n",
      "4\n",
      "5\n",
      "6\n",
      "7\n",
      "8\n",
      "9\n",
      "10\n",
      "11\n",
      "12\n",
      "13\n",
      "14\n",
      "15\n",
      "16\n",
      "17\n",
      "18\n",
      "19\n",
      "20\n",
      "21\n",
      "22\n",
      "23\n",
      "24\n",
      "25\n",
      "26\n",
      "27\n",
      "28\n",
      "29\n",
      "30\n",
      "31\n",
      "32\n",
      "33\n",
      "34\n",
      "35\n",
      "36\n",
      "37\n",
      "38\n",
      "39\n",
      "40\n",
      "41\n",
      "42\n",
      "43\n",
      "44\n",
      "45\n",
      "46\n",
      "47\n",
      "48\n",
      "49\n",
      "50\n",
      "51\n",
      "52\n",
      "53\n",
      "54\n",
      "55\n",
      "56\n",
      "57\n",
      "58\n",
      "59\n",
      "60\n",
      "61\n",
      "62\n",
      "63\n",
      "64\n",
      "65\n",
      "66\n",
      "67\n",
      "68\n",
      "69\n",
      "70\n",
      "71\n",
      "72\n",
      "73\n",
      "74\n",
      "75\n",
      "76\n",
      "77\n",
      "78\n",
      "79\n",
      "80\n",
      "81\n",
      "82\n",
      "83\n",
      "84\n",
      "85\n",
      "86\n",
      "87\n",
      "88\n",
      "89\n",
      "90\n",
      "91\n",
      "92\n",
      "93\n",
      "94\n",
      "95\n",
      "96\n",
      "97\n",
      "98\n",
      "99\n"
     ]
    }
   ],
   "source": [
    "col=grammar_df['text'][:100]\n",
    "grammar_error=col.apply(pred)"
   ]
  },
  {
   "cell_type": "code",
   "execution_count": 71,
   "id": "438f75b8",
   "metadata": {},
   "outputs": [
    {
     "data": {
      "text/plain": [
       "0      0\n",
       "1      1\n",
       "2      0\n",
       "3      1\n",
       "4      0\n",
       "      ..\n",
       "99     0\n",
       "100    1\n",
       "103    0\n",
       "104    0\n",
       "105    1\n",
       "Name: text, Length: 100, dtype: int64"
      ]
     },
     "execution_count": 71,
     "metadata": {},
     "output_type": "execute_result"
    }
   ],
   "source": [
    "grammar_error"
   ]
  },
  {
   "cell_type": "code",
   "execution_count": null,
   "id": "8c5b6b22",
   "metadata": {},
   "outputs": [],
   "source": []
  },
  {
   "cell_type": "code",
   "execution_count": null,
   "id": "b6c275db",
   "metadata": {},
   "outputs": [],
   "source": []
  },
  {
   "cell_type": "code",
   "execution_count": null,
   "id": "7615db3f",
   "metadata": {},
   "outputs": [],
   "source": []
  },
  {
   "cell_type": "code",
   "execution_count": null,
   "id": "297c2b10",
   "metadata": {},
   "outputs": [],
   "source": []
  },
  {
   "cell_type": "code",
   "execution_count": null,
   "id": "2e3a0b6c",
   "metadata": {},
   "outputs": [],
   "source": []
  },
  {
   "cell_type": "code",
   "execution_count": null,
   "id": "3afdacf7",
   "metadata": {},
   "outputs": [],
   "source": []
  },
  {
   "cell_type": "code",
   "execution_count": null,
   "id": "1d8c0c1a",
   "metadata": {},
   "outputs": [],
   "source": []
  },
  {
   "cell_type": "code",
   "execution_count": null,
   "id": "5a846c14",
   "metadata": {},
   "outputs": [],
   "source": []
  },
  {
   "cell_type": "code",
   "execution_count": null,
   "id": "6b32fefd",
   "metadata": {},
   "outputs": [],
   "source": []
  },
  {
   "cell_type": "code",
   "execution_count": null,
   "id": "fee7799f",
   "metadata": {},
   "outputs": [],
   "source": []
  },
  {
   "cell_type": "code",
   "execution_count": null,
   "id": "91ace4e9",
   "metadata": {},
   "outputs": [],
   "source": []
  }
 ],
 "metadata": {
  "kernelspec": {
   "display_name": "Python 3",
   "language": "python",
   "name": "python3"
  },
  "language_info": {
   "codemirror_mode": {
    "name": "ipython",
    "version": 3
   },
   "file_extension": ".py",
   "mimetype": "text/x-python",
   "name": "python",
   "nbconvert_exporter": "python",
   "pygments_lexer": "ipython3",
   "version": "3.8.8"
  }
 },
 "nbformat": 4,
 "nbformat_minor": 5
}
